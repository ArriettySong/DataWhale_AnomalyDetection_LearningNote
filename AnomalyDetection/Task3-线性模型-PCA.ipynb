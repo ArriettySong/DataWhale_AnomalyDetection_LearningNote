{
 "cells": [
  {
   "cell_type": "markdown",
   "metadata": {},
   "source": [
    "# PCA算法实践"
   ]
  },
  {
   "cell_type": "code",
   "execution_count": 1,
   "metadata": {},
   "outputs": [],
   "source": [
    "import numpy as np\n",
    "import pandas as pd\n",
    "import pyod\n",
    "from sklearn.model_selection import train_test_split"
   ]
  },
  {
   "cell_type": "code",
   "execution_count": 2,
   "metadata": {},
   "outputs": [],
   "source": [
    "# 打印cell中的多个输出\n",
    "from IPython.core.interactiveshell import InteractiveShell\n",
    "InteractiveShell.ast_node_interactivity = \"all\""
   ]
  },
  {
   "cell_type": "code",
   "execution_count": 13,
   "metadata": {},
   "outputs": [],
   "source": [
    "# 数据源来自kaggle的信用卡欺诈数据 https://www.kaggle.com/mlg-ulb/creditcardfraud\n",
    "path = 'dataverse_files/'\n",
    "data = pd.read_csv(path+r\"creditcard.csv\")"
   ]
  },
  {
   "cell_type": "code",
   "execution_count": 14,
   "metadata": {},
   "outputs": [
    {
     "data": {
      "text/plain": [
       "(284807, 31)"
      ]
     },
     "execution_count": 14,
     "metadata": {},
     "output_type": "execute_result"
    }
   ],
   "source": [
    "data.shape"
   ]
  },
  {
   "cell_type": "code",
   "execution_count": 4,
   "metadata": {},
   "outputs": [],
   "source": [
    "X = data.iloc[:,data.columns != \"Class\"]\n",
    "y = data.iloc[:,data.columns == \"Class\"]\n",
    "Xtrain,Xtest,Ytrain,Ytest = train_test_split(X,y,test_size=0.3)"
   ]
  },
  {
   "cell_type": "code",
   "execution_count": 5,
   "metadata": {},
   "outputs": [],
   "source": [
    "from pyod.models.pca import PCA\n",
    "from pyod.utils.data import evaluate_print\n",
    "from pyod.utils.example import visualize"
   ]
  },
  {
   "cell_type": "code",
   "execution_count": 9,
   "metadata": {},
   "outputs": [
    {
     "data": {
      "text/plain": [
       "PCA(contamination=0.1, copy=True, iterated_power='auto', n_components=None,\n",
       "  n_selected_components=None, random_state=None, standardization=True,\n",
       "  svd_solver='auto', tol=0.0, weighted=True, whiten=False)"
      ]
     },
     "execution_count": 9,
     "metadata": {},
     "output_type": "execute_result"
    }
   ],
   "source": [
    "clf_name=\"pca\"\n",
    "# clf=PCA(contamination=492/28487)\n",
    "clf=PCA()\n",
    "clf.fit(Xtrain)"
   ]
  },
  {
   "cell_type": "code",
   "execution_count": 10,
   "metadata": {},
   "outputs": [],
   "source": [
    "y_train_pred = clf.labels_\n",
    "y_train_scores = clf.decision_scores_\n",
    "y_test_pred = clf.predict(Xtest)\n",
    "y_test_scores = clf.decision_function(Xtest)"
   ]
  },
  {
   "cell_type": "code",
   "execution_count": 11,
   "metadata": {},
   "outputs": [
    {
     "name": "stdout",
     "output_type": "stream",
     "text": [
      "\n",
      "On Training Data:\n",
      "pca ROC:0.948, precision @ rank n:0.2275\n",
      "\n",
      "On Test Data:\n",
      "pca ROC:0.961, precision @ rank n:0.2468\n"
     ]
    },
    {
     "data": {
      "text/plain": [
       "0.0149972413101269"
      ]
     },
     "execution_count": 11,
     "metadata": {},
     "output_type": "execute_result"
    },
    {
     "name": "stdout",
     "output_type": "stream",
     "text": [
      "              precision    recall  f1-score   support\n",
      "\n",
      "           0       1.00      0.90      0.95    199030\n",
      "           1       0.01      0.90      0.03       334\n",
      "\n",
      "    accuracy                           0.90    199364\n",
      "   macro avg       0.51      0.90      0.49    199364\n",
      "weighted avg       1.00      0.90      0.95    199364\n",
      "\n",
      "              precision    recall  f1-score   support\n",
      "\n",
      "           0       1.00      0.90      0.95     85285\n",
      "           1       0.02      0.92      0.03       158\n",
      "\n",
      "    accuracy                           0.90     85443\n",
      "   macro avg       0.51      0.91      0.49     85443\n",
      "weighted avg       1.00      0.90      0.95     85443\n",
      "\n"
     ]
    }
   ],
   "source": [
    "# evaluate and print the results\n",
    "print(\"\\nOn Training Data:\")\n",
    "evaluate_print(clf_name, Ytrain, y_train_scores)\n",
    "print(\"\\nOn Test Data:\")\n",
    "evaluate_print(clf_name, Ytest, y_test_scores)\n",
    "\n",
    "from sklearn.metrics import precision_score\n",
    "precision_score(Ytrain, y_train_pred, average='binary') \n",
    "\n",
    "from sklearn.metrics import classification_report\n",
    "print(classification_report(Ytrain, y_train_pred))\n",
    "print(classification_report(Ytest, y_test_pred))"
   ]
  }
 ],
 "metadata": {
  "kernelspec": {
   "display_name": "Python 3",
   "language": "python",
   "name": "python3"
  },
  "language_info": {
   "codemirror_mode": {
    "name": "ipython",
    "version": 3
   },
   "file_extension": ".py",
   "mimetype": "text/x-python",
   "name": "python",
   "nbconvert_exporter": "python",
   "pygments_lexer": "ipython3",
   "version": "3.8.5"
  }
 },
 "nbformat": 4,
 "nbformat_minor": 4
}
